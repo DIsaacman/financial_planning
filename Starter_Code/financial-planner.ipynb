{
 "cells": [
  {
   "cell_type": "markdown",
   "metadata": {},
   "source": [
    "# Unit 5 - Financial Planning"
   ]
  },
  {
   "cell_type": "code",
   "execution_count": 20,
   "metadata": {},
   "outputs": [],
   "source": [
    "# Initial imports\n",
    "import os\n",
    "import requests\n",
    "import pandas as pd\n",
    "from dotenv import load_dotenv\n",
    "import alpaca_trade_api as tradeapi\n",
    "from MCForecastTools import MCSimulation\n",
    "from datetime import date, timedelta\n",
    "\n",
    "%matplotlib inline"
   ]
  },
  {
   "cell_type": "code",
   "execution_count": 2,
   "metadata": {},
   "outputs": [
    {
     "data": {
      "text/plain": [
       "True"
      ]
     },
     "execution_count": 2,
     "metadata": {},
     "output_type": "execute_result"
    }
   ],
   "source": [
    "# Load .env enviroment variables\n",
    "load_dotenv()"
   ]
  },
  {
   "cell_type": "markdown",
   "metadata": {},
   "source": [
    "## Part 1 - Personal Finance Planner"
   ]
  },
  {
   "cell_type": "markdown",
   "metadata": {},
   "source": [
    "### Collect Crypto Prices Using the `requests` Library"
   ]
  },
  {
   "cell_type": "code",
   "execution_count": 3,
   "metadata": {},
   "outputs": [],
   "source": [
    "# Set current amount of crypto assets\n",
    "# YOUR CODE HERE!"
   ]
  },
  {
   "cell_type": "code",
   "execution_count": 4,
   "metadata": {},
   "outputs": [],
   "source": [
    "# Crypto API URLs\n",
    "btc_url = \"https://api.alternative.me/v2/ticker/Bitcoin/?convert=USD\"\n",
    "eth_url = \"https://api.alternative.me/v2/ticker/Ethereum/?convert=USD\""
   ]
  },
  {
   "cell_type": "code",
   "execution_count": 5,
   "metadata": {},
   "outputs": [
    {
     "ename": "NameError",
     "evalue": "name 'my_btc' is not defined",
     "output_type": "error",
     "traceback": [
      "\u001b[1;31m---------------------------------------------------------------------------\u001b[0m",
      "\u001b[1;31mNameError\u001b[0m                                 Traceback (most recent call last)",
      "\u001b[1;32m~\\AppData\\Local\\Temp\\ipykernel_19288\\2074524847.py\u001b[0m in \u001b[0;36m<module>\u001b[1;34m\u001b[0m\n\u001b[0;32m      9\u001b[0m \u001b[1;33m\u001b[0m\u001b[0m\n\u001b[0;32m     10\u001b[0m \u001b[1;31m# Print current crypto wallet balance\u001b[0m\u001b[1;33m\u001b[0m\u001b[1;33m\u001b[0m\u001b[1;33m\u001b[0m\u001b[0m\n\u001b[1;32m---> 11\u001b[1;33m \u001b[0mprint\u001b[0m\u001b[1;33m(\u001b[0m\u001b[1;34mf\"The current value of your {my_btc} BTC is ${my_btc_value:0.2f}\"\u001b[0m\u001b[1;33m)\u001b[0m\u001b[1;33m\u001b[0m\u001b[1;33m\u001b[0m\u001b[0m\n\u001b[0m\u001b[0;32m     12\u001b[0m \u001b[0mprint\u001b[0m\u001b[1;33m(\u001b[0m\u001b[1;34mf\"The current value of your {my_eth} ETH is ${my_eth_value:0.2f}\"\u001b[0m\u001b[1;33m)\u001b[0m\u001b[1;33m\u001b[0m\u001b[1;33m\u001b[0m\u001b[0m\n",
      "\u001b[1;31mNameError\u001b[0m: name 'my_btc' is not defined"
     ]
    }
   ],
   "source": [
    "# Fetch current BTC price\n",
    "# YOUR CODE HERE!\n",
    "\n",
    "# Fetch current ETH price\n",
    "# YOUR CODE HERE!\n",
    "\n",
    "# Compute current value of my crpto\n",
    "# YOUR CODE HERE!\n",
    "\n",
    "# Print current crypto wallet balance\n",
    "print(f\"The current value of your {my_btc} BTC is ${my_btc_value:0.2f}\")\n",
    "print(f\"The current value of your {my_eth} ETH is ${my_eth_value:0.2f}\")"
   ]
  },
  {
   "cell_type": "markdown",
   "metadata": {},
   "source": [
    "### Collect Investments Data Using Alpaca: `SPY` (stocks) and `AGG` (bonds)"
   ]
  },
  {
   "cell_type": "code",
   "execution_count": 83,
   "metadata": {},
   "outputs": [],
   "source": [
    "# Set current amount of shares\n",
    "my_agg = 200\n",
    "my_spy = 50"
   ]
  },
  {
   "cell_type": "code",
   "execution_count": null,
   "metadata": {},
   "outputs": [],
   "source": [
    "# Set Alpaca API key and secret\n",
    "alpaca_api_key = os.getenv(\"ALPACA_API_KEY\")\n",
    "alpaca_secret_key = os.getenv(\"ALPACA_SECRET_KEY\")\n",
    "\n",
    "# Create the Alpaca API object\n",
    "alpaca = tradeapi.REST(\n",
    "    alpaca_api_key,\n",
    "    alpaca_secret_key,\n",
    "    api_version=\"v2\")"
   ]
  },
  {
   "cell_type": "code",
   "execution_count": null,
   "metadata": {},
   "outputs": [
    {
     "data": {
      "text/plain": [
       "'2022-07-10'"
      ]
     },
     "execution_count": 39,
     "metadata": {},
     "output_type": "execute_result"
    }
   ],
   "source": [
    "\n",
    "today_date"
   ]
  },
  {
   "cell_type": "code",
   "execution_count": 50,
   "metadata": {
    "tags": []
   },
   "outputs": [
    {
     "data": {
      "text/html": [
       "<div>\n",
       "<style scoped>\n",
       "    .dataframe tbody tr th:only-of-type {\n",
       "        vertical-align: middle;\n",
       "    }\n",
       "\n",
       "    .dataframe tbody tr th {\n",
       "        vertical-align: top;\n",
       "    }\n",
       "\n",
       "    .dataframe thead tr th {\n",
       "        text-align: left;\n",
       "    }\n",
       "\n",
       "    .dataframe thead tr:last-of-type th {\n",
       "        text-align: right;\n",
       "    }\n",
       "</style>\n",
       "<table border=\"1\" class=\"dataframe\">\n",
       "  <thead>\n",
       "    <tr>\n",
       "      <th></th>\n",
       "      <th colspan=\"7\" halign=\"left\">SPY</th>\n",
       "      <th colspan=\"7\" halign=\"left\">AGG</th>\n",
       "    </tr>\n",
       "    <tr>\n",
       "      <th></th>\n",
       "      <th>open</th>\n",
       "      <th>high</th>\n",
       "      <th>low</th>\n",
       "      <th>close</th>\n",
       "      <th>volume</th>\n",
       "      <th>trade_count</th>\n",
       "      <th>vwap</th>\n",
       "      <th>open</th>\n",
       "      <th>high</th>\n",
       "      <th>low</th>\n",
       "      <th>close</th>\n",
       "      <th>volume</th>\n",
       "      <th>trade_count</th>\n",
       "      <th>vwap</th>\n",
       "    </tr>\n",
       "    <tr>\n",
       "      <th>timestamp</th>\n",
       "      <th></th>\n",
       "      <th></th>\n",
       "      <th></th>\n",
       "      <th></th>\n",
       "      <th></th>\n",
       "      <th></th>\n",
       "      <th></th>\n",
       "      <th></th>\n",
       "      <th></th>\n",
       "      <th></th>\n",
       "      <th></th>\n",
       "      <th></th>\n",
       "      <th></th>\n",
       "      <th></th>\n",
       "    </tr>\n",
       "  </thead>\n",
       "  <tbody>\n",
       "    <tr>\n",
       "      <th>2022-06-03 04:00:00+00:00</th>\n",
       "      <td>412.41</td>\n",
       "      <td>414.04</td>\n",
       "      <td>409.51</td>\n",
       "      <td>410.61</td>\n",
       "      <td>71994109</td>\n",
       "      <td>577282</td>\n",
       "      <td>411.857196</td>\n",
       "      <td>102.67</td>\n",
       "      <td>102.905</td>\n",
       "      <td>102.64</td>\n",
       "      <td>102.82</td>\n",
       "      <td>6561090</td>\n",
       "      <td>19041</td>\n",
       "      <td>102.803378</td>\n",
       "    </tr>\n",
       "  </tbody>\n",
       "</table>\n",
       "</div>"
      ],
      "text/plain": [
       "                              SPY                                    \\\n",
       "                             open    high     low   close    volume   \n",
       "timestamp                                                             \n",
       "2022-06-03 04:00:00+00:00  412.41  414.04  409.51  410.61  71994109   \n",
       "\n",
       "                                                      AGG                   \\\n",
       "                          trade_count        vwap    open     high     low   \n",
       "timestamp                                                                    \n",
       "2022-06-03 04:00:00+00:00      577282  411.857196  102.67  102.905  102.64   \n",
       "\n",
       "                                                                    \n",
       "                            close   volume trade_count        vwap  \n",
       "timestamp                                                           \n",
       "2022-06-03 04:00:00+00:00  102.82  6561090       19041  102.803378  "
      ]
     },
     "execution_count": 50,
     "metadata": {},
     "output_type": "execute_result"
    }
   ],
   "source": [
    "#Closest date to day based on Alpaca Liscense\n",
    "today_date = str(date.today() - timedelta(days=47))\n",
    "\n",
    "# Format current date as ISO format\n",
    "today = pd.Timestamp(today_date,tz=\"America/New_York\").isoformat()\n",
    "\n",
    "# Set the tickers\n",
    "tickers = [\"AGG\", \"SPY\"]\n",
    "\n",
    "# Set timeframe to \"1Day\" for Alpaca API\n",
    "timeframe = \"1Day\"\n",
    "\n",
    "# Get current price data from Alpaca\n",
    "df_portfolio = alpaca.get_bars(\n",
    "    tickers,\n",
    "    timeframe,\n",
    "    start = today,\n",
    "    end = today\n",
    ").df\n",
    "\n",
    "df_portfolio\n",
    "\n",
    "# Reorganize the DataFrame\n",
    "# Separate ticker data\n",
    "SPY = df_portfolio[df_portfolio['symbol']=='SPY'].drop('symbol', axis=1)\n",
    "AGG = df_portfolio[df_portfolio['symbol']=='AGG'].drop('symbol', axis=1)\n",
    "\n",
    "\n",
    "# Concatenate the ticker DataFrames\n",
    "df_portfolio = pd.concat([SPY, AGG],axis=1, keys=['SPY','AGG'])\n",
    "\n",
    "# Preview DataFrame\n",
    "df_portfolio"
   ]
  },
  {
   "cell_type": "code",
   "execution_count": 52,
   "metadata": {},
   "outputs": [
    {
     "name": "stdout",
     "output_type": "stream",
     "text": [
      "Current AGG closing price: $102.82\n",
      "Current SPY closing price: $410.61\n"
     ]
    }
   ],
   "source": [
    "# Pick AGG and SPY close prices\n",
    "spy_close_price= float(df_portfolio[\"SPY\"][\"close\"])\n",
    "agg_close_price = float(df_portfolio[\"AGG\"][\"close\"])\n",
    "\n",
    "# Print AGG and SPY close prices\n",
    "print(f\"Current AGG closing price: ${agg_close_price}\")\n",
    "print(f\"Current SPY closing price: ${spy_close_price}\")"
   ]
  },
  {
   "cell_type": "code",
   "execution_count": null,
   "metadata": {},
   "outputs": [],
   "source": [
    "# Compute the current value of shares\n",
    "# YOUR CODE HERE!\n",
    "\n",
    "# Print current value of shares\n",
    "print(f\"The current value of your {my_spy} SPY shares is ${my_spy_value:0.2f}\")\n",
    "print(f\"The current value of your {my_agg} AGG shares is ${my_agg_value:0.2f}\")"
   ]
  },
  {
   "cell_type": "markdown",
   "metadata": {},
   "source": [
    "### Savings Health Analysis"
   ]
  },
  {
   "cell_type": "code",
   "execution_count": 94,
   "metadata": {},
   "outputs": [
    {
     "data": {
      "text/html": [
       "<div>\n",
       "<style scoped>\n",
       "    .dataframe tbody tr th:only-of-type {\n",
       "        vertical-align: middle;\n",
       "    }\n",
       "\n",
       "    .dataframe tbody tr th {\n",
       "        vertical-align: top;\n",
       "    }\n",
       "\n",
       "    .dataframe thead th {\n",
       "        text-align: right;\n",
       "    }\n",
       "</style>\n",
       "<table border=\"1\" class=\"dataframe\">\n",
       "  <thead>\n",
       "    <tr style=\"text-align: right;\">\n",
       "      <th></th>\n",
       "      <th>amount</th>\n",
       "    </tr>\n",
       "  </thead>\n",
       "  <tbody>\n",
       "    <tr>\n",
       "      <th>crypto</th>\n",
       "      <td>1000.0</td>\n",
       "    </tr>\n",
       "    <tr>\n",
       "      <th>shares</th>\n",
       "      <td>41094.5</td>\n",
       "    </tr>\n",
       "  </tbody>\n",
       "</table>\n",
       "</div>"
      ],
      "text/plain": [
       "         amount\n",
       "crypto   1000.0\n",
       "shares  41094.5"
      ]
     },
     "metadata": {},
     "output_type": "display_data"
    }
   ],
   "source": [
    "# Set monthly household income\n",
    "monthly_income = 12000\n",
    "\n",
    "crypto_val = 1000\n",
    "share_val = (spy_close_price * my_spy) + (agg_close_price * my_agg)\n",
    "\n",
    "# Consolidate financial assets data\n",
    "df_savings = {\"amount\" : \n",
    "              {\"crypto\" : crypto_val,\n",
    "               \"shares\" : share_val\n",
    "              }\n",
    "            }\n",
    "# Create savings DataFrame\n",
    "df_savings = pd.DataFrame.from_dict(df_savings)\n",
    "\n",
    "# Display savings DataFrame\n",
    "display(df_savings)"
   ]
  },
  {
   "cell_type": "code",
   "execution_count": 95,
   "metadata": {},
   "outputs": [
    {
     "data": {
      "text/plain": [
       "<AxesSubplot:title={'center':'Crypto & Stocks Savings Portfolio Composition'}, ylabel='amount'>"
      ]
     },
     "execution_count": 95,
     "metadata": {},
     "output_type": "execute_result"
    },
    {
     "data": {
      "image/png": "[encoded data removed]",
      "text/plain": [
       "<Figure size 432x288 with 1 Axes>"
      ]
     },
     "metadata": {},
     "output_type": "display_data"
    }
   ],
   "source": [
    "# Plot savings pie chart\n",
    "df_savings.plot.pie(y=\"amount\", title=\"Crypto & Stocks Savings Portfolio Composition\")"
   ]
  },
  {
   "cell_type": "code",
   "execution_count": 102,
   "metadata": {},
   "outputs": [
    {
     "name": "stdout",
     "output_type": "stream",
     "text": [
      "Congratulations, you are a baller!\n"
     ]
    }
   ],
   "source": [
    "# Set ideal emergency fund\n",
    "emergency_fund = monthly_income * 3\n",
    "\n",
    "# Calculate total amount of savings\n",
    "total_savings = share_val + crypto_val\n",
    "\n",
    "# Validate saving health\n",
    "if total_savings > emergency_fund:\n",
    "    print(\"Congratulations, you are a baller!\")\n",
    "if total_savings == emergency_fund:\n",
    "    print(\"Congratulations, you scored your financial goal!\")\n",
    "if total_savings < emergency_fund:\n",
    "    funds_needed = emergency_fund - total_savings\n",
    "    print(f\"Warning, you need another {funds_needed} to go before you can rest easy\")"
   ]
  },
  {
   "cell_type": "markdown",
   "metadata": {},
   "source": [
    "## Part 2 - Retirement Planning\n",
    "\n",
    "### Monte Carlo Simulation"
   ]
  },
  {
   "cell_type": "code",
   "execution_count": null,
   "metadata": {},
   "outputs": [],
   "source": [
    "# Set start and end dates of five years back from today.\n",
    "# Sample results may vary from the solution based on the time frame chosen\n",
    "start_date = pd.Timestamp('2016-05-01', tz='America/New_York').isoformat()\n",
    "end_date = pd.Timestamp('2021-05-01', tz='America/New_York').isoformat()"
   ]
  },
  {
   "cell_type": "code",
   "execution_count": 64,
   "metadata": {},
   "outputs": [
    {
     "data": {
      "text/html": [
       "<div>\n",
       "<style scoped>\n",
       "    .dataframe tbody tr th:only-of-type {\n",
       "        vertical-align: middle;\n",
       "    }\n",
       "\n",
       "    .dataframe tbody tr th {\n",
       "        vertical-align: top;\n",
       "    }\n",
       "\n",
       "    .dataframe thead tr th {\n",
       "        text-align: left;\n",
       "    }\n",
       "\n",
       "    .dataframe thead tr:last-of-type th {\n",
       "        text-align: right;\n",
       "    }\n",
       "</style>\n",
       "<table border=\"1\" class=\"dataframe\">\n",
       "  <thead>\n",
       "    <tr>\n",
       "      <th></th>\n",
       "      <th colspan=\"7\" halign=\"left\">SPY</th>\n",
       "      <th colspan=\"7\" halign=\"left\">AGG</th>\n",
       "    </tr>\n",
       "    <tr>\n",
       "      <th></th>\n",
       "      <th>open</th>\n",
       "      <th>high</th>\n",
       "      <th>low</th>\n",
       "      <th>close</th>\n",
       "      <th>volume</th>\n",
       "      <th>trade_count</th>\n",
       "      <th>vwap</th>\n",
       "      <th>open</th>\n",
       "      <th>high</th>\n",
       "      <th>low</th>\n",
       "      <th>close</th>\n",
       "      <th>volume</th>\n",
       "      <th>trade_count</th>\n",
       "      <th>vwap</th>\n",
       "    </tr>\n",
       "    <tr>\n",
       "      <th>timestamp</th>\n",
       "      <th></th>\n",
       "      <th></th>\n",
       "      <th></th>\n",
       "      <th></th>\n",
       "      <th></th>\n",
       "      <th></th>\n",
       "      <th></th>\n",
       "      <th></th>\n",
       "      <th></th>\n",
       "      <th></th>\n",
       "      <th></th>\n",
       "      <th></th>\n",
       "      <th></th>\n",
       "      <th></th>\n",
       "    </tr>\n",
       "  </thead>\n",
       "  <tbody>\n",
       "    <tr>\n",
       "      <th>2017-06-30 04:00:00+00:00</th>\n",
       "      <td>242.3</td>\n",
       "      <td>242.71</td>\n",
       "      <td>241.575</td>\n",
       "      <td>241.8</td>\n",
       "      <td>86820694</td>\n",
       "      <td>241580</td>\n",
       "      <td>242.015951</td>\n",
       "      <td>109.62</td>\n",
       "      <td>109.6273</td>\n",
       "      <td>109.46</td>\n",
       "      <td>109.51</td>\n",
       "      <td>2626939</td>\n",
       "      <td>10668</td>\n",
       "      <td>109.546443</td>\n",
       "    </tr>\n",
       "  </tbody>\n",
       "</table>\n",
       "</div>"
      ],
      "text/plain": [
       "                             SPY                                    \\\n",
       "                            open    high      low  close    volume   \n",
       "timestamp                                                            \n",
       "2017-06-30 04:00:00+00:00  242.3  242.71  241.575  241.8  86820694   \n",
       "\n",
       "                                                      AGG                    \\\n",
       "                          trade_count        vwap    open      high     low   \n",
       "timestamp                                                                     \n",
       "2017-06-30 04:00:00+00:00      241580  242.015951  109.62  109.6273  109.46   \n",
       "\n",
       "                                                                    \n",
       "                            close   volume trade_count        vwap  \n",
       "timestamp                                                           \n",
       "2017-06-30 04:00:00+00:00  109.51  2626939       10668  109.546443  "
      ]
     },
     "execution_count": 64,
     "metadata": {},
     "output_type": "execute_result"
    }
   ],
   "source": [
    "# Get 5 years' worth of historical data for SPY and AGG\n",
    "# YOUR CODE HERE!\n",
    "\n",
    "#Set starting date for gathering Data(+47 for Alpacca Allowable Call Dates) \n",
    "starting_date = str(date.today() - timedelta(days=1873))\n",
    "\n",
    "# Set start and end datetimes between now and 5 years ago.\n",
    "start_date = pd.Timestamp(starting_date, tz=\"America/New_York\").isoformat()\n",
    "end_date = pd.Timestamp(today_date, tz=\"America/New_York\").isoformat()\n",
    "\n",
    "\n",
    "# Get 5 year's worth of historical price data for SPY and AGG\n",
    "df_stock_data = alpaca.get_bars(\n",
    "    tickers,\n",
    "    timeframe,\n",
    "    start=start_date,\n",
    "    end=end_date\n",
    ").df\n",
    "\n",
    "\n",
    "# Reorganize the DataFrame\n",
    "# Separate ticker data\n",
    "SPY = df_stock_data[df_stock_data['symbol']=='SPY'].drop('symbol', axis=1)\n",
    "AGG = df_stock_data[df_stock_data['symbol']=='AGG'].drop('symbol', axis=1)\n",
    "\n",
    "# Concatenate the ticker DataFrames\n",
    "df_stock_data = pd.concat([SPY, AGG], axis=1, keys=[\"SPY\", \"AGG\"])\n",
    "\n",
    "# Display sample data\n",
    "df_stock_data.sample()"
   ]
  },
  {
   "cell_type": "code",
   "execution_count": 68,
   "metadata": {},
   "outputs": [],
   "source": [
    "# Configuring a Monte Carlo simulation to forecast 30 years cumulative returns\n",
    "MC_thirtyyear = MCSimulation(\n",
    "    portfolio_data = df_stock_data,\n",
    "    weights = [.40,.60],\n",
    "    num_simulation = 100,\n",
    "    num_trading_days = 252*30\n",
    ")"
   ]
  },
  {
   "cell_type": "code",
   "execution_count": 69,
   "metadata": {},
   "outputs": [
    {
     "data": {
      "text/html": [
       "<div>\n",
       "<style scoped>\n",
       "    .dataframe tbody tr th:only-of-type {\n",
       "        vertical-align: middle;\n",
       "    }\n",
       "\n",
       "    .dataframe tbody tr th {\n",
       "        vertical-align: top;\n",
       "    }\n",
       "\n",
       "    .dataframe thead tr th {\n",
       "        text-align: left;\n",
       "    }\n",
       "\n",
       "    .dataframe thead tr:last-of-type th {\n",
       "        text-align: right;\n",
       "    }\n",
       "</style>\n",
       "<table border=\"1\" class=\"dataframe\">\n",
       "  <thead>\n",
       "    <tr>\n",
       "      <th></th>\n",
       "      <th colspan=\"8\" halign=\"left\">SPY</th>\n",
       "      <th colspan=\"8\" halign=\"left\">AGG</th>\n",
       "    </tr>\n",
       "    <tr>\n",
       "      <th></th>\n",
       "      <th>open</th>\n",
       "      <th>high</th>\n",
       "      <th>low</th>\n",
       "      <th>close</th>\n",
       "      <th>volume</th>\n",
       "      <th>trade_count</th>\n",
       "      <th>vwap</th>\n",
       "      <th>daily_return</th>\n",
       "      <th>open</th>\n",
       "      <th>high</th>\n",
       "      <th>low</th>\n",
       "      <th>close</th>\n",
       "      <th>volume</th>\n",
       "      <th>trade_count</th>\n",
       "      <th>vwap</th>\n",
       "      <th>daily_return</th>\n",
       "    </tr>\n",
       "    <tr>\n",
       "      <th>timestamp</th>\n",
       "      <th></th>\n",
       "      <th></th>\n",
       "      <th></th>\n",
       "      <th></th>\n",
       "      <th></th>\n",
       "      <th></th>\n",
       "      <th></th>\n",
       "      <th></th>\n",
       "      <th></th>\n",
       "      <th></th>\n",
       "      <th></th>\n",
       "      <th></th>\n",
       "      <th></th>\n",
       "      <th></th>\n",
       "      <th></th>\n",
       "      <th></th>\n",
       "    </tr>\n",
       "  </thead>\n",
       "  <tbody>\n",
       "    <tr>\n",
       "      <th>2017-06-05 04:00:00+00:00</th>\n",
       "      <td>244.02</td>\n",
       "      <td>244.30</td>\n",
       "      <td>243.76</td>\n",
       "      <td>243.99</td>\n",
       "      <td>44698825</td>\n",
       "      <td>136071</td>\n",
       "      <td>244.029429</td>\n",
       "      <td>NaN</td>\n",
       "      <td>109.66</td>\n",
       "      <td>109.74</td>\n",
       "      <td>109.6000</td>\n",
       "      <td>109.67</td>\n",
       "      <td>2450624</td>\n",
       "      <td>9907</td>\n",
       "      <td>109.693010</td>\n",
       "      <td>NaN</td>\n",
       "    </tr>\n",
       "    <tr>\n",
       "      <th>2017-06-06 04:00:00+00:00</th>\n",
       "      <td>243.34</td>\n",
       "      <td>243.98</td>\n",
       "      <td>243.12</td>\n",
       "      <td>243.21</td>\n",
       "      <td>50375430</td>\n",
       "      <td>160561</td>\n",
       "      <td>243.517742</td>\n",
       "      <td>-0.003197</td>\n",
       "      <td>109.87</td>\n",
       "      <td>109.95</td>\n",
       "      <td>109.8100</td>\n",
       "      <td>109.89</td>\n",
       "      <td>1607846</td>\n",
       "      <td>8264</td>\n",
       "      <td>109.897602</td>\n",
       "      <td>0.002006</td>\n",
       "    </tr>\n",
       "    <tr>\n",
       "      <th>2017-06-07 04:00:00+00:00</th>\n",
       "      <td>243.61</td>\n",
       "      <td>243.92</td>\n",
       "      <td>242.83</td>\n",
       "      <td>243.66</td>\n",
       "      <td>54144311</td>\n",
       "      <td>182098</td>\n",
       "      <td>243.535814</td>\n",
       "      <td>0.001850</td>\n",
       "      <td>109.81</td>\n",
       "      <td>109.87</td>\n",
       "      <td>109.7000</td>\n",
       "      <td>109.76</td>\n",
       "      <td>1903624</td>\n",
       "      <td>9268</td>\n",
       "      <td>109.768804</td>\n",
       "      <td>-0.001183</td>\n",
       "    </tr>\n",
       "    <tr>\n",
       "      <th>2017-06-08 04:00:00+00:00</th>\n",
       "      <td>243.80</td>\n",
       "      <td>244.33</td>\n",
       "      <td>243.17</td>\n",
       "      <td>243.78</td>\n",
       "      <td>65950691</td>\n",
       "      <td>210451</td>\n",
       "      <td>243.697117</td>\n",
       "      <td>0.000492</td>\n",
       "      <td>109.70</td>\n",
       "      <td>109.70</td>\n",
       "      <td>109.5101</td>\n",
       "      <td>109.65</td>\n",
       "      <td>1532737</td>\n",
       "      <td>8301</td>\n",
       "      <td>109.622036</td>\n",
       "      <td>-0.001002</td>\n",
       "    </tr>\n",
       "    <tr>\n",
       "      <th>2017-06-09 04:00:00+00:00</th>\n",
       "      <td>244.07</td>\n",
       "      <td>245.01</td>\n",
       "      <td>241.95</td>\n",
       "      <td>243.41</td>\n",
       "      <td>132256362</td>\n",
       "      <td>430463</td>\n",
       "      <td>243.643527</td>\n",
       "      <td>-0.001518</td>\n",
       "      <td>109.51</td>\n",
       "      <td>109.63</td>\n",
       "      <td>109.4600</td>\n",
       "      <td>109.56</td>\n",
       "      <td>1616833</td>\n",
       "      <td>8395</td>\n",
       "      <td>109.536583</td>\n",
       "      <td>-0.000821</td>\n",
       "    </tr>\n",
       "  </tbody>\n",
       "</table>\n",
       "</div>"
      ],
      "text/plain": [
       "                              SPY                                     \\\n",
       "                             open    high     low   close     volume   \n",
       "timestamp                                                              \n",
       "2017-06-05 04:00:00+00:00  244.02  244.30  243.76  243.99   44698825   \n",
       "2017-06-06 04:00:00+00:00  243.34  243.98  243.12  243.21   50375430   \n",
       "2017-06-07 04:00:00+00:00  243.61  243.92  242.83  243.66   54144311   \n",
       "2017-06-08 04:00:00+00:00  243.80  244.33  243.17  243.78   65950691   \n",
       "2017-06-09 04:00:00+00:00  244.07  245.01  241.95  243.41  132256362   \n",
       "\n",
       "                                                                   AGG  \\\n",
       "                          trade_count        vwap daily_return    open   \n",
       "timestamp                                                                \n",
       "2017-06-05 04:00:00+00:00      136071  244.029429          NaN  109.66   \n",
       "2017-06-06 04:00:00+00:00      160561  243.517742    -0.003197  109.87   \n",
       "2017-06-07 04:00:00+00:00      182098  243.535814     0.001850  109.81   \n",
       "2017-06-08 04:00:00+00:00      210451  243.697117     0.000492  109.70   \n",
       "2017-06-09 04:00:00+00:00      430463  243.643527    -0.001518  109.51   \n",
       "\n",
       "                                                                          \\\n",
       "                             high       low   close   volume trade_count   \n",
       "timestamp                                                                  \n",
       "2017-06-05 04:00:00+00:00  109.74  109.6000  109.67  2450624        9907   \n",
       "2017-06-06 04:00:00+00:00  109.95  109.8100  109.89  1607846        8264   \n",
       "2017-06-07 04:00:00+00:00  109.87  109.7000  109.76  1903624        9268   \n",
       "2017-06-08 04:00:00+00:00  109.70  109.5101  109.65  1532737        8301   \n",
       "2017-06-09 04:00:00+00:00  109.63  109.4600  109.56  1616833        8395   \n",
       "\n",
       "                                                    \n",
       "                                 vwap daily_return  \n",
       "timestamp                                           \n",
       "2017-06-05 04:00:00+00:00  109.693010          NaN  \n",
       "2017-06-06 04:00:00+00:00  109.897602     0.002006  \n",
       "2017-06-07 04:00:00+00:00  109.768804    -0.001183  \n",
       "2017-06-08 04:00:00+00:00  109.622036    -0.001002  \n",
       "2017-06-09 04:00:00+00:00  109.536583    -0.000821  "
      ]
     },
     "execution_count": 69,
     "metadata": {},
     "output_type": "execute_result"
    }
   ],
   "source": [
    "# Printing the simulation input data\n",
    "MC_thirtyyear.portfolio_data.head()"
   ]
  },
  {
   "cell_type": "code",
   "execution_count": 71,
   "metadata": {},
   "outputs": [
    {
     "name": "stdout",
     "output_type": "stream",
     "text": [
      "Running Monte Carlo simulation number 0.\n",
      "Running Monte Carlo simulation number 10.\n",
      "Running Monte Carlo simulation number 20.\n",
      "Running Monte Carlo simulation number 30.\n",
      "Running Monte Carlo simulation number 40.\n",
      "Running Monte Carlo simulation number 50.\n",
      "Running Monte Carlo simulation number 60.\n",
      "Running Monte Carlo simulation number 70.\n",
      "Running Monte Carlo simulation number 80.\n",
      "Running Monte Carlo simulation number 90.\n"
     ]
    },
    {
     "data": {
      "text/html": [
       "<div>\n",
       "<style scoped>\n",
       "    .dataframe tbody tr th:only-of-type {\n",
       "        vertical-align: middle;\n",
       "    }\n",
       "\n",
       "    .dataframe tbody tr th {\n",
       "        vertical-align: top;\n",
       "    }\n",
       "\n",
       "    .dataframe thead th {\n",
       "        text-align: right;\n",
       "    }\n",
       "</style>\n",
       "<table border=\"1\" class=\"dataframe\">\n",
       "  <thead>\n",
       "    <tr style=\"text-align: right;\">\n",
       "      <th></th>\n",
       "      <th>0</th>\n",
       "      <th>1</th>\n",
       "      <th>2</th>\n",
       "      <th>3</th>\n",
       "      <th>4</th>\n",
       "      <th>5</th>\n",
       "      <th>6</th>\n",
       "      <th>7</th>\n",
       "      <th>8</th>\n",
       "      <th>9</th>\n",
       "      <th>...</th>\n",
       "      <th>90</th>\n",
       "      <th>91</th>\n",
       "      <th>92</th>\n",
       "      <th>93</th>\n",
       "      <th>94</th>\n",
       "      <th>95</th>\n",
       "      <th>96</th>\n",
       "      <th>97</th>\n",
       "      <th>98</th>\n",
       "      <th>99</th>\n",
       "    </tr>\n",
       "  </thead>\n",
       "  <tbody>\n",
       "    <tr>\n",
       "      <th>0</th>\n",
       "      <td>1.000000</td>\n",
       "      <td>1.000000</td>\n",
       "      <td>1.000000</td>\n",
       "      <td>1.000000</td>\n",
       "      <td>1.000000</td>\n",
       "      <td>1.000000</td>\n",
       "      <td>1.000000</td>\n",
       "      <td>1.000000</td>\n",
       "      <td>1.000000</td>\n",
       "      <td>1.000000</td>\n",
       "      <td>...</td>\n",
       "      <td>1.000000</td>\n",
       "      <td>1.000000</td>\n",
       "      <td>1.000000</td>\n",
       "      <td>1.000000</td>\n",
       "      <td>1.000000</td>\n",
       "      <td>1.000000</td>\n",
       "      <td>1.000000</td>\n",
       "      <td>1.000000</td>\n",
       "      <td>1.000000</td>\n",
       "      <td>1.000000</td>\n",
       "    </tr>\n",
       "    <tr>\n",
       "      <th>1</th>\n",
       "      <td>0.998275</td>\n",
       "      <td>0.997733</td>\n",
       "      <td>1.010880</td>\n",
       "      <td>0.998762</td>\n",
       "      <td>0.994767</td>\n",
       "      <td>0.997589</td>\n",
       "      <td>1.010362</td>\n",
       "      <td>1.001263</td>\n",
       "      <td>0.991929</td>\n",
       "      <td>0.994726</td>\n",
       "      <td>...</td>\n",
       "      <td>1.000033</td>\n",
       "      <td>1.005903</td>\n",
       "      <td>1.002255</td>\n",
       "      <td>1.003213</td>\n",
       "      <td>0.998346</td>\n",
       "      <td>0.995819</td>\n",
       "      <td>0.997961</td>\n",
       "      <td>1.003079</td>\n",
       "      <td>1.000626</td>\n",
       "      <td>0.988170</td>\n",
       "    </tr>\n",
       "    <tr>\n",
       "      <th>2</th>\n",
       "      <td>0.993828</td>\n",
       "      <td>0.995248</td>\n",
       "      <td>1.018486</td>\n",
       "      <td>1.005981</td>\n",
       "      <td>0.998970</td>\n",
       "      <td>1.005492</td>\n",
       "      <td>1.009772</td>\n",
       "      <td>0.988964</td>\n",
       "      <td>0.990853</td>\n",
       "      <td>0.996353</td>\n",
       "      <td>...</td>\n",
       "      <td>1.001572</td>\n",
       "      <td>1.002503</td>\n",
       "      <td>0.999843</td>\n",
       "      <td>1.002216</td>\n",
       "      <td>0.992261</td>\n",
       "      <td>0.995975</td>\n",
       "      <td>0.998887</td>\n",
       "      <td>1.004691</td>\n",
       "      <td>1.006549</td>\n",
       "      <td>0.982334</td>\n",
       "    </tr>\n",
       "    <tr>\n",
       "      <th>3</th>\n",
       "      <td>0.997877</td>\n",
       "      <td>1.001182</td>\n",
       "      <td>1.017334</td>\n",
       "      <td>1.005554</td>\n",
       "      <td>0.999288</td>\n",
       "      <td>1.009105</td>\n",
       "      <td>1.013063</td>\n",
       "      <td>0.987265</td>\n",
       "      <td>0.986485</td>\n",
       "      <td>1.006591</td>\n",
       "      <td>...</td>\n",
       "      <td>1.003780</td>\n",
       "      <td>1.009214</td>\n",
       "      <td>0.992871</td>\n",
       "      <td>0.999014</td>\n",
       "      <td>0.993213</td>\n",
       "      <td>0.996433</td>\n",
       "      <td>0.999722</td>\n",
       "      <td>1.006102</td>\n",
       "      <td>1.003759</td>\n",
       "      <td>0.980021</td>\n",
       "    </tr>\n",
       "    <tr>\n",
       "      <th>4</th>\n",
       "      <td>1.005706</td>\n",
       "      <td>1.000585</td>\n",
       "      <td>1.022827</td>\n",
       "      <td>1.010395</td>\n",
       "      <td>0.989768</td>\n",
       "      <td>1.003447</td>\n",
       "      <td>1.011981</td>\n",
       "      <td>0.981836</td>\n",
       "      <td>0.979104</td>\n",
       "      <td>1.011976</td>\n",
       "      <td>...</td>\n",
       "      <td>1.011721</td>\n",
       "      <td>1.012221</td>\n",
       "      <td>0.988093</td>\n",
       "      <td>1.003103</td>\n",
       "      <td>0.997934</td>\n",
       "      <td>0.990435</td>\n",
       "      <td>1.002187</td>\n",
       "      <td>0.999768</td>\n",
       "      <td>1.001435</td>\n",
       "      <td>0.976875</td>\n",
       "    </tr>\n",
       "    <tr>\n",
       "      <th>...</th>\n",
       "      <td>...</td>\n",
       "      <td>...</td>\n",
       "      <td>...</td>\n",
       "      <td>...</td>\n",
       "      <td>...</td>\n",
       "      <td>...</td>\n",
       "      <td>...</td>\n",
       "      <td>...</td>\n",
       "      <td>...</td>\n",
       "      <td>...</td>\n",
       "      <td>...</td>\n",
       "      <td>...</td>\n",
       "      <td>...</td>\n",
       "      <td>...</td>\n",
       "      <td>...</td>\n",
       "      <td>...</td>\n",
       "      <td>...</td>\n",
       "      <td>...</td>\n",
       "      <td>...</td>\n",
       "      <td>...</td>\n",
       "      <td>...</td>\n",
       "    </tr>\n",
       "    <tr>\n",
       "      <th>7556</th>\n",
       "      <td>4.923860</td>\n",
       "      <td>2.518619</td>\n",
       "      <td>4.383500</td>\n",
       "      <td>7.048049</td>\n",
       "      <td>2.880482</td>\n",
       "      <td>2.930650</td>\n",
       "      <td>1.919747</td>\n",
       "      <td>2.950074</td>\n",
       "      <td>11.435927</td>\n",
       "      <td>5.759524</td>\n",
       "      <td>...</td>\n",
       "      <td>2.614048</td>\n",
       "      <td>4.595253</td>\n",
       "      <td>4.157040</td>\n",
       "      <td>5.943275</td>\n",
       "      <td>4.977459</td>\n",
       "      <td>3.395036</td>\n",
       "      <td>2.289687</td>\n",
       "      <td>7.528856</td>\n",
       "      <td>5.505528</td>\n",
       "      <td>2.480859</td>\n",
       "    </tr>\n",
       "    <tr>\n",
       "      <th>7557</th>\n",
       "      <td>4.905593</td>\n",
       "      <td>2.512886</td>\n",
       "      <td>4.397757</td>\n",
       "      <td>6.985616</td>\n",
       "      <td>2.899332</td>\n",
       "      <td>2.915028</td>\n",
       "      <td>1.911140</td>\n",
       "      <td>2.931102</td>\n",
       "      <td>11.480094</td>\n",
       "      <td>5.726391</td>\n",
       "      <td>...</td>\n",
       "      <td>2.598663</td>\n",
       "      <td>4.575462</td>\n",
       "      <td>4.145652</td>\n",
       "      <td>5.932584</td>\n",
       "      <td>4.991347</td>\n",
       "      <td>3.398442</td>\n",
       "      <td>2.295867</td>\n",
       "      <td>7.512873</td>\n",
       "      <td>5.518846</td>\n",
       "      <td>2.476080</td>\n",
       "    </tr>\n",
       "    <tr>\n",
       "      <th>7558</th>\n",
       "      <td>4.920317</td>\n",
       "      <td>2.486351</td>\n",
       "      <td>4.404983</td>\n",
       "      <td>6.956161</td>\n",
       "      <td>2.873379</td>\n",
       "      <td>2.899128</td>\n",
       "      <td>1.907561</td>\n",
       "      <td>2.894467</td>\n",
       "      <td>11.496589</td>\n",
       "      <td>5.753484</td>\n",
       "      <td>...</td>\n",
       "      <td>2.593350</td>\n",
       "      <td>4.598735</td>\n",
       "      <td>4.161083</td>\n",
       "      <td>5.898005</td>\n",
       "      <td>5.018009</td>\n",
       "      <td>3.406272</td>\n",
       "      <td>2.292064</td>\n",
       "      <td>7.552857</td>\n",
       "      <td>5.553740</td>\n",
       "      <td>2.462093</td>\n",
       "    </tr>\n",
       "    <tr>\n",
       "      <th>7559</th>\n",
       "      <td>4.965996</td>\n",
       "      <td>2.479346</td>\n",
       "      <td>4.360129</td>\n",
       "      <td>7.012176</td>\n",
       "      <td>2.884941</td>\n",
       "      <td>2.879647</td>\n",
       "      <td>1.899685</td>\n",
       "      <td>2.877279</td>\n",
       "      <td>11.549057</td>\n",
       "      <td>5.742397</td>\n",
       "      <td>...</td>\n",
       "      <td>2.611283</td>\n",
       "      <td>4.634998</td>\n",
       "      <td>4.230664</td>\n",
       "      <td>5.835473</td>\n",
       "      <td>4.990403</td>\n",
       "      <td>3.414756</td>\n",
       "      <td>2.277585</td>\n",
       "      <td>7.599742</td>\n",
       "      <td>5.525234</td>\n",
       "      <td>2.448022</td>\n",
       "    </tr>\n",
       "    <tr>\n",
       "      <th>7560</th>\n",
       "      <td>4.960620</td>\n",
       "      <td>2.496545</td>\n",
       "      <td>4.390794</td>\n",
       "      <td>7.033216</td>\n",
       "      <td>2.912895</td>\n",
       "      <td>2.880136</td>\n",
       "      <td>1.898809</td>\n",
       "      <td>2.836071</td>\n",
       "      <td>11.503585</td>\n",
       "      <td>5.780196</td>\n",
       "      <td>...</td>\n",
       "      <td>2.621897</td>\n",
       "      <td>4.602448</td>\n",
       "      <td>4.230648</td>\n",
       "      <td>5.833900</td>\n",
       "      <td>4.984108</td>\n",
       "      <td>3.424852</td>\n",
       "      <td>2.299975</td>\n",
       "      <td>7.572125</td>\n",
       "      <td>5.556820</td>\n",
       "      <td>2.438798</td>\n",
       "    </tr>\n",
       "  </tbody>\n",
       "</table>\n",
       "<p>7561 rows × 100 columns</p>\n",
       "</div>"
      ],
      "text/plain": [
       "            0         1         2         3         4         5         6   \\\n",
       "0     1.000000  1.000000  1.000000  1.000000  1.000000  1.000000  1.000000   \n",
       "1     0.998275  0.997733  1.010880  0.998762  0.994767  0.997589  1.010362   \n",
       "2     0.993828  0.995248  1.018486  1.005981  0.998970  1.005492  1.009772   \n",
       "3     0.997877  1.001182  1.017334  1.005554  0.999288  1.009105  1.013063   \n",
       "4     1.005706  1.000585  1.022827  1.010395  0.989768  1.003447  1.011981   \n",
       "...        ...       ...       ...       ...       ...       ...       ...   \n",
       "7556  4.923860  2.518619  4.383500  7.048049  2.880482  2.930650  1.919747   \n",
       "7557  4.905593  2.512886  4.397757  6.985616  2.899332  2.915028  1.911140   \n",
       "7558  4.920317  2.486351  4.404983  6.956161  2.873379  2.899128  1.907561   \n",
       "7559  4.965996  2.479346  4.360129  7.012176  2.884941  2.879647  1.899685   \n",
       "7560  4.960620  2.496545  4.390794  7.033216  2.912895  2.880136  1.898809   \n",
       "\n",
       "            7          8         9   ...        90        91        92  \\\n",
       "0     1.000000   1.000000  1.000000  ...  1.000000  1.000000  1.000000   \n",
       "1     1.001263   0.991929  0.994726  ...  1.000033  1.005903  1.002255   \n",
       "2     0.988964   0.990853  0.996353  ...  1.001572  1.002503  0.999843   \n",
       "3     0.987265   0.986485  1.006591  ...  1.003780  1.009214  0.992871   \n",
       "4     0.981836   0.979104  1.011976  ...  1.011721  1.012221  0.988093   \n",
       "...        ...        ...       ...  ...       ...       ...       ...   \n",
       "7556  2.950074  11.435927  5.759524  ...  2.614048  4.595253  4.157040   \n",
       "7557  2.931102  11.480094  5.726391  ...  2.598663  4.575462  4.145652   \n",
       "7558  2.894467  11.496589  5.753484  ...  2.593350  4.598735  4.161083   \n",
       "7559  2.877279  11.549057  5.742397  ...  2.611283  4.634998  4.230664   \n",
       "7560  2.836071  11.503585  5.780196  ...  2.621897  4.602448  4.230648   \n",
       "\n",
       "            93        94        95        96        97        98        99  \n",
       "0     1.000000  1.000000  1.000000  1.000000  1.000000  1.000000  1.000000  \n",
       "1     1.003213  0.998346  0.995819  0.997961  1.003079  1.000626  0.988170  \n",
       "2     1.002216  0.992261  0.995975  0.998887  1.004691  1.006549  0.982334  \n",
       "3     0.999014  0.993213  0.996433  0.999722  1.006102  1.003759  0.980021  \n",
       "4     1.003103  0.997934  0.990435  1.002187  0.999768  1.001435  0.976875  \n",
       "...        ...       ...       ...       ...       ...       ...       ...  \n",
       "7556  5.943275  4.977459  3.395036  2.289687  7.528856  5.505528  2.480859  \n",
       "7557  5.932584  4.991347  3.398442  2.295867  7.512873  5.518846  2.476080  \n",
       "7558  5.898005  5.018009  3.406272  2.292064  7.552857  5.553740  2.462093  \n",
       "7559  5.835473  4.990403  3.414756  2.277585  7.599742  5.525234  2.448022  \n",
       "7560  5.833900  4.984108  3.424852  2.299975  7.572125  5.556820  2.438798  \n",
       "\n",
       "[7561 rows x 100 columns]"
      ]
     },
     "execution_count": 71,
     "metadata": {},
     "output_type": "execute_result"
    }
   ],
   "source": [
    "# Running a Monte Carlo simulation to forecast 30 years cumulative returns\n",
    "MC_thirtyyear.calc_cumulative_return()\n",
    "\n",
    "#REMEMBER TO CHANGE BACK TO 1000"
   ]
  },
  {
   "cell_type": "code",
   "execution_count": 73,
   "metadata": {},
   "outputs": [
    {
     "data": {
      "image/png": "[encoded data removed]",
      "text/plain": [
       "<Figure size 432x288 with 1 Axes>"
      ]
     },
     "metadata": {
      "needs_background": "light"
     },
     "output_type": "display_data"
    }
   ],
   "source": [
    "# Plot simulation outcomes\n",
    "line_plot = MC_thirtyyear.plot_simulation()"
   ]
  },
  {
   "cell_type": "code",
   "execution_count": 75,
   "metadata": {},
   "outputs": [
    {
     "data": {
      "image/png": "[encoded data removed]",
      "text/plain": [
       "<Figure size 432x288 with 1 Axes>"
      ]
     },
     "metadata": {
      "needs_background": "light"
     },
     "output_type": "display_data"
    }
   ],
   "source": [
    "# Plot probability distribution and confidence intervals\n",
    "dist_plot = MC_thirtyyear.plot_distribution()\n",
    "\n",
    "# Save the plot for future usage\n",
    "dist_plot.get_figure().savefig('MC_fiveyear_dist_plot.png',bbox_inches='tight')"
   ]
  },
  {
   "cell_type": "markdown",
   "metadata": {},
   "source": [
    "### Retirement Analysis"
   ]
  },
  {
   "cell_type": "code",
   "execution_count": 77,
   "metadata": {},
   "outputs": [
    {
     "name": "stdout",
     "output_type": "stream",
     "text": [
      "count           100.000000\n",
      "mean              3.863638\n",
      "std               1.997410\n",
      "min               0.951583\n",
      "25%               2.509337\n",
      "50%               3.374285\n",
      "75%               4.899074\n",
      "max              11.551708\n",
      "95% CI Lower      1.213021\n",
      "95% CI Upper      9.151903\n",
      "Name: 7560, dtype: float64\n"
     ]
    }
   ],
   "source": [
    "# Fetch summary statistics from the Monte Carlo simulation results\n",
    "tbl = MC_thirtyyear.summarize_cumulative_return()\n",
    "\n",
    "# Print summary statistics\n",
    "print(tbl)"
   ]
  },
  {
   "cell_type": "markdown",
   "metadata": {},
   "source": [
    "### Calculate the expected portfolio return at the `95%` lower and upper confidence intervals based on a `$20,000` initial investment."
   ]
  },
  {
   "cell_type": "code",
   "execution_count": 78,
   "metadata": {},
   "outputs": [
    {
     "name": "stdout",
     "output_type": "stream",
     "text": [
      "There is a 95% chance that an initial investment of $20000 in the portfolio over the next 30 years will end within in the range of $24260.41 and $183038.06\n"
     ]
    }
   ],
   "source": [
    "# Set initial investment\n",
    "initial_investment = 20000\n",
    "\n",
    "# Use the lower and upper `95%` confidence intervals to calculate the range of the possible outcomes of our $10,000 investments in Coca-Cola and Microsoft stocks\n",
    "ci_lower = round(tbl[8]*initial_investment,2)\n",
    "ci_upper = round(tbl[9]*initial_investment,2)\n",
    "\n",
    "\n",
    "# Print results\n",
    "print(f\"There is a 95% chance that an initial investment of ${initial_investment} in the portfolio\"\n",
    "      f\" over the next 30 years will end within in the range of\"\n",
    "      f\" ${ci_lower} and ${ci_upper}\")"
   ]
  },
  {
   "cell_type": "markdown",
   "metadata": {},
   "source": [
    "### Calculate the expected portfolio return at the `95%` lower and upper confidence intervals based on a `50%` increase in the initial investment."
   ]
  },
  {
   "cell_type": "code",
   "execution_count": 79,
   "metadata": {},
   "outputs": [
    {
     "name": "stdout",
     "output_type": "stream",
     "text": [
      "There is a 95% chance that an initial investment of $30000.0 in the portfolio over the next 30 years will end within in the range of $36390.62 and $274557.09\n"
     ]
    }
   ],
   "source": [
    "# Set initial investment\n",
    "initial_investment = 20000 * 1.5\n",
    "\n",
    "# Use the lower and upper `95%` confidence intervals to calculate the range of the possible outcomes of our $30,000\n",
    "ci_lower = round(tbl[8]*initial_investment,2)\n",
    "ci_upper = round(tbl[9]*initial_investment,2)\n",
    "\n",
    "# Print results\n",
    "print(f\"There is a 95% chance that an initial investment of ${initial_investment} in the portfolio\"\n",
    "      f\" over the next 30 years will end within in the range of\"\n",
    "      f\" ${ci_lower} and ${ci_upper}\")"
   ]
  },
  {
   "cell_type": "markdown",
   "metadata": {},
   "source": [
    "## Optional Challenge - Early Retirement\n",
    "\n",
    "\n",
    "### Five Years Retirement Option"
   ]
  },
  {
   "cell_type": "code",
   "execution_count": null,
   "metadata": {},
   "outputs": [],
   "source": [
    "# Configuring a Monte Carlo simulation to forecast 5 years cumulative returns\n",
    "# YOUR CODE HERE!"
   ]
  },
  {
   "cell_type": "code",
   "execution_count": null,
   "metadata": {},
   "outputs": [],
   "source": [
    "# Running a Monte Carlo simulation to forecast 5 years cumulative returns\n",
    "# YOUR CODE HERE!"
   ]
  },
  {
   "cell_type": "code",
   "execution_count": null,
   "metadata": {},
   "outputs": [],
   "source": [
    "# Plot simulation outcomes\n",
    "# YOUR CODE HERE!"
   ]
  },
  {
   "cell_type": "code",
   "execution_count": null,
   "metadata": {},
   "outputs": [],
   "source": [
    "# Plot probability distribution and confidence intervals\n",
    "# YOUR CODE HERE!"
   ]
  },
  {
   "cell_type": "code",
   "execution_count": null,
   "metadata": {},
   "outputs": [],
   "source": [
    "# Fetch summary statistics from the Monte Carlo simulation results\n",
    "# YOUR CODE HERE!\n",
    "\n",
    "# Print summary statistics\n",
    "# YOUR CODE HERE!"
   ]
  },
  {
   "cell_type": "code",
   "execution_count": null,
   "metadata": {},
   "outputs": [],
   "source": [
    "# Set initial investment\n",
    "# YOUR CODE HERE!\n",
    "\n",
    "# Use the lower and upper `95%` confidence intervals to calculate the range of the possible outcomes of our $60,000\n",
    "# YOUR CODE HERE!\n",
    "\n",
    "# Print results\n",
    "print(f\"There is a 95% chance that an initial investment of ${initial_investment} in the portfolio\"\n",
    "      f\" over the next 5 years will end within in the range of\"\n",
    "      f\" ${ci_lower_five} and ${ci_upper_five}\")"
   ]
  },
  {
   "cell_type": "markdown",
   "metadata": {},
   "source": [
    "### Ten Years Retirement Option"
   ]
  },
  {
   "cell_type": "code",
   "execution_count": null,
   "metadata": {},
   "outputs": [],
   "source": [
    "# Configuring a Monte Carlo simulation to forecast 10 years cumulative returns\n",
    "# YOUR CODE HERE!"
   ]
  },
  {
   "cell_type": "code",
   "execution_count": null,
   "metadata": {},
   "outputs": [],
   "source": [
    "# Running a Monte Carlo simulation to forecast 10 years cumulative returns\n",
    "# YOUR CODE HERE!"
   ]
  },
  {
   "cell_type": "code",
   "execution_count": null,
   "metadata": {},
   "outputs": [],
   "source": [
    "# Plot simulation outcomes\n",
    "# YOUR CODE HERE!"
   ]
  },
  {
   "cell_type": "code",
   "execution_count": null,
   "metadata": {},
   "outputs": [],
   "source": [
    "# Plot probability distribution and confidence intervals\n",
    "# YOUR CODE HERE!"
   ]
  },
  {
   "cell_type": "code",
   "execution_count": null,
   "metadata": {},
   "outputs": [],
   "source": [
    "# Fetch summary statistics from the Monte Carlo simulation results\n",
    "# YOUR CODE HERE!\n",
    "\n",
    "# Print summary statistics\n",
    "# YOUR CODE HERE!"
   ]
  },
  {
   "cell_type": "code",
   "execution_count": null,
   "metadata": {},
   "outputs": [],
   "source": [
    "# Set initial investment\n",
    "# YOUR CODE HERE!\n",
    "\n",
    "# Use the lower and upper `95%` confidence intervals to calculate the range of the possible outcomes of our $60,000\n",
    "# YOUR CODE HERE!\n",
    "\n",
    "# Print results\n",
    "print(f\"There is a 95% chance that an initial investment of ${initial_investment} in the portfolio\"\n",
    "      f\" over the next 10 years will end within in the range of\"\n",
    "      f\" ${ci_lower_ten} and ${ci_upper_ten}\")"
   ]
  },
  {
   "cell_type": "code",
   "execution_count": null,
   "metadata": {},
   "outputs": [],
   "source": []
  }
 ],
 "metadata": {
  "kernelspec": {
   "display_name": "Python 3 (ipykernel)",
   "language": "python",
   "name": "python3"
  },
  "language_info": {
   "codemirror_mode": {
    "name": "ipython",
    "version": 3
   },
   "file_extension": ".py",
   "mimetype": "text/x-python",
   "name": "python",
   "nbconvert_exporter": "python",
   "pygments_lexer": "ipython3",
   "version": "3.7.13"
  },
  "nteract": {
   "version": "0.28.0"
  }
 },
 "nbformat": 4,
 "nbformat_minor": 4
}
